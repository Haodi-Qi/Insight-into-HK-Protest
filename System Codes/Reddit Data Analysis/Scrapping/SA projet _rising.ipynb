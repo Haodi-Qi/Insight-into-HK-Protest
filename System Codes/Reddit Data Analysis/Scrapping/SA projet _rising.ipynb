{
 "cells": [
  {
   "cell_type": "code",
   "execution_count": 1,
   "metadata": {},
   "outputs": [],
   "source": [
    "import praw\n",
    "import pandas as pd \n",
    "import datetime as dt \n",
    "from praw.models import MoreComments\n",
    "reddit = praw.Reddit(client_id='',\n",
    "                     client_secret='',\n",
    "                     user_agent='my user agent')\n",
    "\n",
    "topics_dict_rising  =    { \"author\": [],\n",
    "                \"title\":[],\n",
    "                \"score\":[],\n",
    "                \"id\":[], \"url\":[],\n",
    "                \"comms_num\": [],\n",
    "                \"created\": [],\n",
    "                \"body\":[],\n",
    "                \"view_num\":[],\n",
    "                         \"comment\":[]}\n",
    "\n",
    "subreddit = reddit.subreddit('HongKong')"
   ]
  },
  {
   "cell_type": "code",
   "execution_count": 2,
   "metadata": {},
   "outputs": [],
   "source": [
    "#sort by rising \n",
    "for submission in reddit.subreddit('HongKong').rising(limit=None):\n",
    "    topics_dict_rising[\"author\"].append(submission.author)\n",
    "    topics_dict_rising[\"title\"].append(submission.title)\n",
    "    topics_dict_rising[\"score\"].append(submission.score)\n",
    "    topics_dict_rising[\"id\"].append(submission.id)\n",
    "    topics_dict_rising[\"url\"].append(submission.url)\n",
    "    topics_dict_rising[\"comms_num\"].append(submission.num_comments)\n",
    "    topics_dict_rising[\"created\"].append(submission.created)\n",
    "    topics_dict_rising[\"body\"].append(submission.selftext)\n",
    "    topics_dict_rising[\"view_num\"].append(submission.view_count)\n",
    "    comment_array=[]\n",
    "    submission.comments.replace_more(limit=None)\n",
    "    for top_level_comment in submission.comments.list():\n",
    "        if isinstance(top_level_comment, MoreComments):\n",
    "            continue\n",
    "        else:\n",
    "            comment_array.append(top_level_comment.body)\n",
    "    topics_dict_rising['comment'].append(comment_array)\n",
    "    \n",
    "topics_data_rising = pd.DataFrame(topics_dict_rising)\n",
    "\n",
    "\n",
    "#get date \n",
    "def get_date(created):\n",
    "    return dt.datetime.fromtimestamp(created)\n",
    "\n",
    "\n",
    "_timestamp= topics_data_rising['created'].apply(get_date)\n",
    "topics_data_rising = topics_data_rising.assign(timestamp=_timestamp)\n",
    "\n",
    "topics_data_rising.to_csv(\"SA_Project_reddit_rising.csv\",index=False)\n"
   ]
  },
  {
   "cell_type": "code",
   "execution_count": null,
   "metadata": {},
   "outputs": [],
   "source": []
  }
 ],
 "metadata": {
  "kernelspec": {
   "display_name": "Python 3",
   "language": "python",
   "name": "python3"
  },
  "language_info": {
   "codemirror_mode": {
    "name": "ipython",
    "version": 3
   },
   "file_extension": ".py",
   "mimetype": "text/x-python",
   "name": "python",
   "nbconvert_exporter": "python",
   "pygments_lexer": "ipython3",
   "version": "3.7.3"
  }
 },
 "nbformat": 4,
 "nbformat_minor": 2
}
