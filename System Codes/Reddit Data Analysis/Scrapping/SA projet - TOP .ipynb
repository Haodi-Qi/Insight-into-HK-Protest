{
 "cells": [
  {
   "cell_type": "code",
   "execution_count": 1,
   "metadata": {},
   "outputs": [],
   "source": [
    "# ADD UPVOTE RATIO \n",
    "\n",
    "import praw\n",
    "import pandas as pd \n",
    "import datetime as dt \n",
    "from praw.models import MoreComments\n",
    "reddit = praw.Reddit(client_id='',\n",
    "                     client_secret='',\n",
    "                     user_agent='my user agent')\n",
    "\n",
    "topics_dict_top =    { \"author\": [],\n",
    "                \"title\":[],\n",
    "                \"score\":[],\n",
    "                \"id\":[], \"url\":[],\n",
    "                \"comms_num\": [],\n",
    "                \"created\": [],\n",
    "                \"body\":[],\n",
    "                \"view_num\":[],\n",
    " \"upvote\": [],   \n",
    "                \"comment\":[]}\n",
    "\n",
    "\n",
    "subreddit = reddit.subreddit('HongKong')"
   ]
  },
  {
   "cell_type": "code",
   "execution_count": 2,
   "metadata": {},
   "outputs": [],
   "source": [
    "#sort by top \n",
    "for submission in reddit.subreddit('HongKong').top(limit=None):\n",
    "    topics_dict_top[\"author\"].append(submission.author)\n",
    "    topics_dict_top[\"title\"].append(submission.title)\n",
    "    topics_dict_top[\"score\"].append(submission.score)\n",
    "    topics_dict_top[\"id\"].append(submission.id)\n",
    "    topics_dict_top[\"url\"].append(submission.url)\n",
    "    topics_dict_top[\"comms_num\"].append(submission.num_comments)\n",
    "    topics_dict_top[\"created\"].append(submission.created)\n",
    "    topics_dict_top[\"body\"].append(submission.selftext)\n",
    "    topics_dict_top[\"upvote\"].append(submission.upvote)\n",
    "    topics_dict_top[\"view_num\"].append(submission.view_count)\n",
    "    comment_array=[]\n",
    "    submission.comments.replace_more(limit=None)\n",
    "    for top_level_comment in submission.comments.list():\n",
    "        if isinstance(top_level_comment, MoreComments):\n",
    "            continue\n",
    "        else:\n",
    "            comment_array.append(top_level_comment.body)\n",
    "    topics_dict_top['comment'].append(comment_array)\n",
    "\n",
    "topics_data_top = pd.DataFrame(topics_dict_top)\n",
    "\n",
    "def get_date(created):\n",
    "    return dt.datetime.fromtimestamp(created)\n",
    "\n",
    "_timestamp= topics_data_top['created'].apply(get_date)\n",
    "topics_data_top = topics_data_top.assign(timestamp=_timestamp)\n",
    "\n",
    "topics_data_top.to_csv(\"SA_Project_reddit_top.csv\",index=False)"
   ]
  },
  {
   "cell_type": "code",
   "execution_count": null,
   "metadata": {},
   "outputs": [],
   "source": []
  }
 ],
 "metadata": {
  "kernelspec": {
   "display_name": "Python 3",
   "language": "python",
   "name": "python3"
  },
  "language_info": {
   "codemirror_mode": {
    "name": "ipython",
    "version": 3
   },
   "file_extension": ".py",
   "mimetype": "text/x-python",
   "name": "python",
   "nbconvert_exporter": "python",
   "pygments_lexer": "ipython3",
   "version": "3.7.3"
  }
 },
 "nbformat": 4,
 "nbformat_minor": 2
}
