{
 "cells": [
  {
   "cell_type": "code",
   "execution_count": 1,
   "metadata": {},
   "outputs": [],
   "source": [
    "import praw\n",
    "import pandas as pd \n",
    "import datetime as dt \n",
    "from praw.models import MoreComments\n",
    "reddit = praw.Reddit(client_id='',\n",
    "                     client_secret='',\n",
    "                     user_agent='my user agent')\n",
    "\n",
    "topics_dict_hot =    { \"author\": [],\n",
    "                \"title\":[],\n",
    "                \"score\":[],\n",
    "                \"id\":[], \"url\":[],\n",
    "                \"comms_num\": [],\n",
    "                \"created\": [],\n",
    "                \"body\":[],\n",
    "                \"view_num\":[],\n",
    "                     \"comment\":[]}\n",
    "\n",
    "\n",
    "subreddit = reddit.subreddit('HongKong')\n",
    "\n",
    "#sort by hot \n",
    "for submission in reddit.subreddit('HongKong').hot(limit=None):\n",
    "    topics_dict_hot[\"author\"].append(submission.author)\n",
    "    topics_dict_hot[\"title\"].append(submission.title)\n",
    "    topics_dict_hot[\"score\"].append(submission.score)\n",
    "    topics_dict_hot[\"id\"].append(submission.id)\n",
    "    topics_dict_hot[\"url\"].append(submission.url)\n",
    "    topics_dict_hot[\"comms_num\"].append(submission.num_comments)\n",
    "    topics_dict_hot[\"created\"].append(submission.created)\n",
    "    topics_dict_hot[\"body\"].append(submission.selftext)\n",
    "    topics_dict_hot[\"view_num\"].append(submission.view_count)\n",
    "    comment_array=[]\n",
    "    submission.comments.replace_more(limit=None)\n",
    "    for top_level_comment in submission.comments.list():\n",
    "        if isinstance(top_level_comment, MoreComments):\n",
    "            continue\n",
    "        else:\n",
    "            comment_array.append(top_level_comment.body)\n",
    "    topics_dict_hot['comment'].append(comment_array)\n",
    "\n",
    "#write to dataframe \n",
    "topics_data_hot = pd.DataFrame(topics_dict_hot)\n",
    "\n",
    "\n",
    "\n",
    "def get_date(created):\n",
    "    return dt.datetime.fromtimestamp(created)\n",
    "_timestamp= topics_data_hot['created'].apply(get_date)\n",
    "topics_data_hot = topics_data_hot.assign(timestamp=_timestamp)\n",
    "\n",
    "topics_data_hot.to_csv(\"SA_Project_reddit_hot.csv\",index=False)"
   ]
  },
  {
   "cell_type": "code",
   "execution_count": null,
   "metadata": {},
   "outputs": [],
   "source": []
  }
 ],
 "metadata": {
  "kernelspec": {
   "display_name": "Python 3",
   "language": "python",
   "name": "python3"
  },
  "language_info": {
   "codemirror_mode": {
    "name": "ipython",
    "version": 3
   },
   "file_extension": ".py",
   "mimetype": "text/x-python",
   "name": "python",
   "nbconvert_exporter": "python",
   "pygments_lexer": "ipython3",
   "version": "3.7.3"
  }
 },
 "nbformat": 4,
 "nbformat_minor": 2
}
