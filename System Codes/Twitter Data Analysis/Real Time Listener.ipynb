{
 "cells": [
  {
   "cell_type": "code",
   "execution_count": 1,
   "metadata": {
    "ExecuteTime": {
     "end_time": "2019-10-25T00:18:04.791978Z",
     "start_time": "2019-10-25T00:18:04.305055Z"
    }
   },
   "outputs": [],
   "source": [
    "# !pip install tweepy\n",
    "from tweepy.streaming import StreamListener\n",
    "from datetime import date\n",
    "import tweepy\n",
    "import tweepy\n",
    "from tweepy import OAuthHandler\n",
    "import json\n",
    "import os\n",
    "\n",
    "output_file = 'real_time/'+str(date.today()) + '.txt'\n",
    "try:\n",
    "    f = open(output_file,'a')\n",
    "except:\n",
    "    f = open(output_file,'w')\n",
    "f.close()\n",
    "\n",
    "# Consumer/Access key/secret/token obtained from Twitter\n",
    "# You should have created a Twitter app and gotten these keys.\n",
    "# Do NOT share your key/secret/token with other students.\n",
    "consumer_key=''\n",
    "consumer_secret=''\n",
    "access_token=''\n",
    "access_secret=''\n",
    "\n",
    "# The following two lines create an authorization object with your above authentication info.\n",
    "auth = OAuthHandler(consumer_key, consumer_secret)\n",
    "auth.set_access_token(access_token, access_secret)\n",
    "\n",
    "# This line finally calls Twitter's Rest API.\n",
    "api = tweepy.API(auth)   \n",
    "    \n",
    "    \n",
    "# define the SListener class below\n",
    "class SListener(StreamListener):\n",
    "    \n",
    "    def on_data(self, data):\n",
    "        try:\n",
    "#           IMPORTANT: 'a' for appending to the existing file content\n",
    "            with open(output_file, 'a') as f:\n",
    "                f.write(data)\n",
    "                return True\n",
    "        except BaseException as e:\n",
    "            print(\"Error on_data: %s\" % str(e))\n",
    "        return True\n",
    "\n",
    "    def on_error(self, status):\n",
    "        print(status)\n",
    "        return True"
   ]
  },
  {
   "cell_type": "code",
   "execution_count": 2,
   "metadata": {
    "ExecuteTime": {
     "end_time": "2019-10-25T00:18:06.718107Z",
     "start_time": "2019-10-25T00:18:06.712126Z"
    }
   },
   "outputs": [],
   "source": [
    "from tweepy import Stream\n",
    "listen = SListener(api)\n",
    "stream = Stream(auth,listen)\n",
    "# stream.sample()"
   ]
  },
  {
   "cell_type": "code",
   "execution_count": null,
   "metadata": {
    "ExecuteTime": {
     "start_time": "2019-10-25T00:18:07.353Z"
    }
   },
   "outputs": [],
   "source": [
    "# search_terms = [\"#HKProtest\",\"#HongKong\",\"#HongKongProtest\",\"#HKPolice\"]\n",
    "search_terms = ['#Catalonia',\"#HKProtest\",\"#HongKong\",\"#HongKongProtest\",\"#HKPolice\",'#China','#antiELAB','#freehongkong','#noextraditiontochina','#AntiChinazi','#standwithhongkong','#LIHKG']\n",
    "\n",
    "stream.filter(track = search_terms)"
   ]
  }
 ],
 "metadata": {
  "kernelspec": {
   "display_name": "Python 3",
   "language": "python",
   "name": "python3"
  },
  "language_info": {
   "codemirror_mode": {
    "name": "ipython",
    "version": 3
   },
   "file_extension": ".py",
   "mimetype": "text/x-python",
   "name": "python",
   "nbconvert_exporter": "python",
   "pygments_lexer": "ipython3",
   "version": "3.7.3"
  },
  "toc": {
   "base_numbering": 1,
   "nav_menu": {},
   "number_sections": true,
   "sideBar": true,
   "skip_h1_title": false,
   "title_cell": "Table of Contents",
   "title_sidebar": "Contents",
   "toc_cell": false,
   "toc_position": {},
   "toc_section_display": true,
   "toc_window_display": false
  }
 },
 "nbformat": 4,
 "nbformat_minor": 2
}
